{
 "cells": [
  {
   "cell_type": "code",
   "execution_count": 1,
   "metadata": {},
   "outputs": [],
   "source": [
    "using DifferentialEquations, LinearAlgebra, Plots\n",
    "\n",
    "test = false\n",
    "\n",
    "function solve_ode(m,c,k)\n",
    "    function F(u,p,t)\n",
    "        m, c, k = p\n",
    "        A = [0.0 1.0; -k/m -c/m]\n",
    "        b = [0.0, 0.0]\n",
    "        return A*u + b\n",
    "    end\n",
    "    u0 = [1.0, 0.0]\n",
    "    tspan = (0.0, 1.0)\n",
    "    prob = ODEProblem(F, u0, tspan, [m, c, k])\n",
    "    sol = solve(prob, Tsit5(), reltol=1e-8, abstol=1e-8)\n",
    "end\n",
    "\n",
    "if test\n",
    "    sol = solve_ode(1.0, 5.0, 100.0) \n",
    "    plot(sol.t, [first(u) for u in sol.u])\n",
    "end"
   ]
  },
  {
   "cell_type": "markdown",
   "metadata": {},
   "source": [
    "# Hosting"
   ]
  },
  {
   "cell_type": "code",
   "execution_count": 2,
   "metadata": {},
   "outputs": [],
   "source": [
    "using Diana\n",
    "using Merly"
   ]
  },
  {
   "cell_type": "code",
   "execution_count": 3,
   "metadata": {},
   "outputs": [],
   "source": [
    "schema = \"\"\"\n",
    "  type Query {\n",
    "    solution: Float\n",
    "  }\n",
    "\n",
    "  schema {\n",
    "    query: Query\n",
    "  }\n",
    "\"\"\";"
   ]
  },
  {
   "cell_type": "code",
   "execution_count": 4,
   "metadata": {},
   "outputs": [
    {
     "data": {
      "text/plain": [
       "get_solution (generic function with 1 method)"
      ]
     },
     "execution_count": 4,
     "metadata": {},
     "output_type": "execute_result"
    }
   ],
   "source": [
    "function get_solution(root, args, ctx, info)\n",
    "    m = get(args, \"m\", 1.0)\n",
    "    c = get(args, \"c\", 5.0)\n",
    "    k = get(args, \"k\", 100.0)\n",
    "    solution = solve_ode(m, c, k)\n",
    "    to_dict(((ui,vi),ti)) = Dict(\"u\" => ui, \"v\" => vi, \"t\" => ti)\n",
    "    return map(to_dict, tuples(sol))\n",
    "end"
   ]
  },
  {
   "cell_type": "code",
   "execution_count": 5,
   "metadata": {},
   "outputs": [
    {
     "data": {
      "text/plain": [
       "false"
      ]
     },
     "execution_count": 5,
     "metadata": {},
     "output_type": "execute_result"
    }
   ],
   "source": [
    "test && get_solution(nothing, Dict(), nothing, Dict())[1:10]"
   ]
  },
  {
   "cell_type": "code",
   "execution_count": 6,
   "metadata": {},
   "outputs": [],
   "source": [
    "resolvers = Dict(\n",
    "    \"Query\" => Dict(\n",
    "        \"solution\" => get_solution\n",
    "    ),\n",
    ");"
   ]
  },
  {
   "cell_type": "code",
   "execution_count": 7,
   "metadata": {},
   "outputs": [
    {
     "data": {
      "text/plain": [
       "Diana.schema(Diana.var\"#execute#43\"{Diana.var\"#execute#42#44\"{Nothing,Dict{String,Dict{String,typeof(get_solution)}},Dict{Any,Any}}}(Diana.var\"#execute#42#44\"{Nothing,Dict{String,Dict{String,typeof(get_solution)}},Dict{Any,Any}}(nothing, Dict(\"Query\" => Dict(\"solution\" => get_solution)), Dict{Any,Any}(\"Query\" => Dict{Any,Any}(\"solution\" => Dict{Any,Any}(\"tipo\" => \"Float\")),\"query\" => \"Query\"))))"
      ]
     },
     "execution_count": 7,
     "metadata": {},
     "output_type": "execute_result"
    }
   ],
   "source": [
    "my_schema = Schema(schema, resolvers)"
   ]
  },
  {
   "cell_type": "code",
   "execution_count": 8,
   "metadata": {},
   "outputs": [
    {
     "data": {
      "text/plain": [
       "false"
      ]
     },
     "execution_count": 8,
     "metadata": {},
     "output_type": "execute_result"
    }
   ],
   "source": [
    "test && println(my_schema.execute(\"{ solution(m:1.0, c:2.0, k:3.0) }\"))"
   ]
  },
  {
   "cell_type": "code",
   "execution_count": null,
   "metadata": {},
   "outputs": [
    {
     "name": "stderr",
     "output_type": "stream",
     "text": [
      "┌ Info: Url added\n",
      "│   url = POST/graphql\n",
      "└ @ Merly /home/jukka/.julia/packages/Merly/f4RAG/src/routes.jl:39\n"
     ]
    }
   ],
   "source": [
    "Post(\"/graphql\", (req, res) -> begin\n",
    "  res.headers[\"Content-Type\"]= \"application/json\"\n",
    "  my_schema.execute(req.body[\"query\"])\n",
    "end)\n",
    "\n",
    "server = Merly.app()\n",
    "server.useCORS(true)\n",
    "server.start(config=Dict(\"host\" => \"127.0.0.1\", \"port\" => 4000), verbose=false)"
   ]
  },
  {
   "cell_type": "code",
   "execution_count": null,
   "metadata": {},
   "outputs": [],
   "source": []
  }
 ],
 "metadata": {
  "kernelspec": {
   "display_name": "Julia 1.3.0",
   "language": "julia",
   "name": "julia-1.3"
  },
  "language_info": {
   "file_extension": ".jl",
   "mimetype": "application/julia",
   "name": "julia",
   "version": "1.3.0"
  }
 },
 "nbformat": 4,
 "nbformat_minor": 2
}
